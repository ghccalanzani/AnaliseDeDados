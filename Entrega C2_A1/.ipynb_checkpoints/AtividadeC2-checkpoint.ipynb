{
 "cells": [
  {
   "cell_type": "code",
   "execution_count": null,
   "id": "3d8b78ca",
   "metadata": {},
   "outputs": [],
   "source": [
    "#Fatores Acadêmicos e de Empregabilidade que Influenciam a Colocação\n",
    "'''\n",
    "sl_no -> Serial Number (Identificação)\n",
    "gender -> M(ale) - Masculino e F(emale) - Feminino\n",
    "ssc_p -> Porcentagem do Ensino Médio - 10ª Série (Secondary Education percentage- 10th Grade)\n",
    "ssc_b -> Conselho de Educação - Central/Outros (Board of Education- Central/ Others)\n",
    "hsc_p -> Porcentagem do Ensino Médio - 12ª Série (Higher Secondary Education percentage- 12th Grade)\n",
    "hsc_b -> Conselho de Educação - Central/Outros (Board of Education- Central/ Others)\n",
    "hsc_s -> Especialização no Ensino Médio (Specialization in Higher Secondary Education)\n",
    "degree_p -> Porcentagem de Grau (Degree Percentage)\n",
    "degree_t -> Graduação (Tipo de Graduação) - Área de Educação de Graduação (Under Graduation(Degree type)- Field of degree education)\n",
    "workex -> Experiência de Trabalho (Work Experience)\n",
    "etest_p -> Porcentagem do Teste de Empregabilidade (Conduzido pela Faculdade) (Employability test percentage ( conducted by college))\n",
    "specialisation -> Pós-Graduação (MBA) - Especialização (Post Graduation(MBA)- Specialization)\n",
    "mba_p -> Porcentagem com MBA (MBA percentage)\n",
    "status -> Status da Colocação - Placed/Not Placed (Status of placement- Placed/Not placed)\n",
    "salary -> Salário Oferecido pela Empresa aos Candidatos (Salary offered by corporate to candidates)\n",
    "'''"
   ]
  },
  {
   "cell_type": "code",
   "execution_count": null,
   "id": "74564344",
   "metadata": {},
   "outputs": [],
   "source": [
    "import pandas as pd\n",
    "import numpy as np\n",
    "from sklearn import preprocessing\n",
    "from sklearn.preprocessing import LabelEncoder\n",
    "#OBS: Necessário possuir scikit-learn instalado! Para instalar: pip install -U scikit-learn\n",
    "\n",
    "#Selecionar arquivo CSV usando seleção de janela do Windows (Janela pode aparecer por baixo da janela do navegador!)\n",
    "import tkinter as tk\n",
    "from tkinter import filedialog\n",
    "root = tk.Tk()\n",
    "root.withdraw()\n",
    "caminhoArquivoDados = filedialog.askopenfilename(filetypes=[(\"CSV Files\", \"*.csv\")])\n",
    "\n",
    "#Carregar dataset para dataframe\n",
    "df_original = pd.read_csv(caminhoArquivoDados)"
   ]
  },
  {
   "cell_type": "code",
   "execution_count": null,
   "id": "fdec5706",
   "metadata": {},
   "outputs": [],
   "source": [
    "df_no_salary = df_original.copy(deep=True)\n",
    "df_no_salary = df_no_salary.drop('salary', axis=1)"
   ]
  },
  {
   "cell_type": "code",
   "execution_count": null,
   "id": "33baa61e",
   "metadata": {},
   "outputs": [],
   "source": [
    "#Selecionar atributos categóricos\n",
    "colunasAtributosCategoricos = ['gender', 'ssc_b', 'hsc_b', 'hsc_s', 'degree_t', 'workex', 'specialisation', 'status']\n",
    "df_categoricos = df_no_salary[colunasAtributosCategoricos]\n",
    "\n",
    "#Aplicar o LabelEncoder nas colunas\n",
    "label_encoder = LabelEncoder()\n",
    "for column in colunasAtributosCategoricos:\n",
    "    df_categoricos.loc[:, column] = label_encoder.fit_transform(df_categoricos[column])\n",
    "\n",
    "#Substituir as colunas originais pelas colunas codificadas\n",
    "df_no_salary[colunasAtributosCategoricos] = df_categoricos\n",
    "df_no_salary"
   ]
  }
 ],
 "metadata": {
  "kernelspec": {
   "display_name": "Python 3 (ipykernel)",
   "language": "python",
   "name": "python3"
  },
  "language_info": {
   "codemirror_mode": {
    "name": "ipython",
    "version": 3
   },
   "file_extension": ".py",
   "mimetype": "text/x-python",
   "name": "python",
   "nbconvert_exporter": "python",
   "pygments_lexer": "ipython3",
   "version": "3.11.3"
  }
 },
 "nbformat": 4,
 "nbformat_minor": 5
}
