{
 "cells": [
  {
   "cell_type": "code",
   "execution_count": 1,
   "id": "91ecb014",
   "metadata": {},
   "outputs": [],
   "source": [
    "import pandas as pd\n",
    "import numpy as np\n",
    "import matplotlib.pyplot as plt"
   ]
  },
  {
   "cell_type": "code",
   "execution_count": 2,
   "id": "aeac5a04",
   "metadata": {
    "scrolled": true
   },
   "outputs": [
    {
     "name": "stdout",
     "output_type": "stream",
     "text": [
      "######## POR SETOR ########\n",
      "\n",
      "Média do número de meses:\n",
      "Setor\n",
      "C    7.142857\n",
      "I    4.625000\n",
      "Name: Meses, dtype: float64\n",
      "\n",
      "Mediana do número de meses:\n",
      "Setor\n",
      "C    8.0\n",
      "I    4.5\n",
      "Name: Meses, dtype: float64\n",
      "\n",
      "Desvio padrão do número de meses:\n",
      "Setor\n",
      "C    1.46385\n",
      "I    1.06066\n",
      "Name: Meses, dtype: float64\n",
      "\n",
      "Variância do número de meses:\n",
      "Setor\n",
      "C    2.142857\n",
      "I    1.125000\n",
      "Name: Meses, dtype: float64\n",
      "\n",
      "\n",
      "######## POR TAMANHO ########\n",
      "\n",
      "Média do número de meses:\n",
      "Tamanho\n",
      "G    6.000000\n",
      "M    5.857143\n",
      "P    5.500000\n",
      "Name: Meses, dtype: float64\n",
      "\n",
      "Mediana do número de meses:\n",
      "Tamanho\n",
      "G    6.0\n",
      "M    6.0\n",
      "P    5.5\n",
      "Name: Meses, dtype: float64\n",
      "\n",
      "Desvio padrão do número de meses:\n",
      "Tamanho\n",
      "G    2.309401\n",
      "M    2.115701\n",
      "P    0.577350\n",
      "Name: Meses, dtype: float64\n",
      "\n",
      "Variância do número de meses:\n",
      "Tamanho\n",
      "G    5.333333\n",
      "M    4.476190\n",
      "P    0.333333\n",
      "Name: Meses, dtype: float64\n"
     ]
    }
   ],
   "source": [
    "################# Questao 1 #################\n",
    "data1 = {\n",
    "    'Meses': [8, 9, 4, 5, 3, 6, 8, 6, 6, 8, 5, 5, 6, 4, 4],\n",
    "    'Setor': ['C', 'C', 'I', 'I', 'I', 'C', 'C', 'I', 'I', 'C', 'C', 'I', 'C', 'I', 'I'],\n",
    "    'Tamanho': ['G', 'M', 'G', 'M', 'M', 'P', 'G', 'M', 'P', 'M', 'P', 'P', 'M', 'M', 'G']\n",
    "}\n",
    "\n",
    "df1 = pd.DataFrame(data1)\n",
    "df1.set_index(pd.RangeIndex(start=1, stop=16, name='Empresa'), inplace=True)\n",
    "\n",
    "#A)\n",
    "#Agrupamento por setor\n",
    "agrupamento1 = df1.groupby('Setor')['Meses']\n",
    "\n",
    "print(\"######## POR SETOR ########\")\n",
    "print(\"\\nMédia do número de meses:\")\n",
    "print(agrupamento1.mean())\n",
    "print(\"\\nMediana do número de meses:\")\n",
    "print(agrupamento1.median())\n",
    "\n",
    "#B)\n",
    "print(\"\\nDesvio padrão do número de meses:\")\n",
    "print(agrupamento1.std())\n",
    "print(\"\\nVariância do número de meses:\")\n",
    "print(agrupamento1.var())\n",
    "\n",
    "#C)\n",
    "#Agrupamento por tamanho\n",
    "agrupamento1_2 = df1.groupby('Tamanho')['Meses']\n",
    "print(\"\\n\\n######## POR TAMANHO ########\")\n",
    "print(\"\\nMédia do número de meses:\")\n",
    "print(agrupamento1_2.mean())\n",
    "print(\"\\nMediana do número de meses:\")\n",
    "print(agrupamento1_2.median())\n",
    "print(\"\\nDesvio padrão do número de meses:\")\n",
    "print(agrupamento1_2.std())\n",
    "print(\"\\nVariância do número de meses:\")\n",
    "print(agrupamento1_2.var())"
   ]
  },
  {
   "cell_type": "code",
   "execution_count": 3,
   "id": "e17e3792",
   "metadata": {
    "scrolled": true
   },
   "outputs": [
    {
     "name": "stdout",
     "output_type": "stream",
     "text": [
      "\n",
      "Média do peso:\n",
      "Idade\n",
      "40    60.0\n",
      "45    60.8\n",
      "50    71.6\n",
      "55    75.4\n",
      "60    77.6\n",
      "65    76.2\n",
      "Name: Peso, dtype: float64\n",
      "\n",
      "Mediana do peso:\n",
      "Idade\n",
      "40    62.0\n",
      "45    62.0\n",
      "50    74.0\n",
      "55    77.0\n",
      "60    76.0\n",
      "65    80.0\n",
      "Name: Peso, dtype: float64\n",
      "\n",
      "Desvio padrão do peso:\n",
      "Idade\n",
      "40    7.382412\n",
      "45    3.701351\n",
      "50    7.127412\n",
      "55    4.219005\n",
      "60    6.268971\n",
      "65    7.496666\n",
      "Name: Peso, dtype: float64\n",
      "\n",
      "Variância do peso:\n",
      "Idade\n",
      "40    54.5\n",
      "45    13.7\n",
      "50    50.8\n",
      "55    17.8\n",
      "60    39.3\n",
      "65    56.2\n",
      "Name: Peso, dtype: float64\n"
     ]
    }
   ],
   "source": [
    "################# Questao 2 #################\n",
    "data2 = {\n",
    "    'Idade': [40, 45, 50, 55, 60, 65],\n",
    "    'Peso': [[55, 50, 68, 65, 62], [58, 56, 62, 65, 63], [60, 74, 70, 78, 76], [77, 78, 70, 72, 80], [70, 76, 74, 83, 85], [65, 82, 72, 82, 80]]\n",
    "}\n",
    "df2 = pd.DataFrame(data2)\n",
    "\n",
    "#A)\n",
    "df2 = df2.explode('Peso')\n",
    "df2['Peso'] = pd.to_numeric(df2['Peso'])\n",
    "\n",
    "agrupamento2 = df2.groupby('Idade')['Peso']\n",
    "\n",
    "print(\"\\nMédia do peso:\")\n",
    "print(agrupamento2.mean())\n",
    "print(\"\\nMediana do peso:\")\n",
    "print(agrupamento2.median())\n",
    "print(\"\\nDesvio padrão do peso:\")\n",
    "print(agrupamento2.std())\n",
    "print(\"\\nVariância do peso:\")\n",
    "print(agrupamento2.var())"
   ]
  },
  {
   "cell_type": "code",
   "execution_count": 4,
   "id": "e2c0c133",
   "metadata": {
    "scrolled": true
   },
   "outputs": [
    {
     "name": "stdout",
     "output_type": "stream",
     "text": [
      "\n",
      "\n",
      "######## POR TIPO DE INDUSTRIA ########\n",
      "\n",
      "Média da renda:\n",
      "T\n",
      "M    4.310000\n",
      "T    3.354545\n",
      "Name: S, dtype: float64\n",
      "\n",
      "Mediana da renda:\n",
      "T\n",
      "M    4.3\n",
      "T    3.2\n",
      "Name: S, dtype: float64\n",
      "\n",
      "Desvio padrão da renda:\n",
      "T\n",
      "M    0.619049\n",
      "T    0.740761\n",
      "Name: S, dtype: float64\n",
      "\n",
      "Variância da renda:\n",
      "T\n",
      "M    0.383222\n",
      "T    0.548727\n",
      "Name: S, dtype: float64\n"
     ]
    }
   ],
   "source": [
    "################# Questao 3 #################\n",
    "data3 = {'S': [4.5, 5, 4.2, 3.7, 3.9, 4.1, 2.9, 2.7, 3.5, 3.2, 4.7, 5.5, 4.8, 3.4, 4.2, 3.4, 4.4, 3.7, 2.8, 2.5, 2.9],\n",
    "         'T': ['M', 'T', 'M', 'M', 'T', 'T', 'T', 'T', 'T', 'T', 'M', 'M', 'M', 'T', 'M', 'M', 'M', 'M', 'T', 'T', 'T'],\n",
    "         'Z': ['N', 'M', 'M', 'M', 'T', 'N', 'M', 'M', 'T', 'N', 'N', 'T', 'T', 'M', 'M', 'N', 'T', 'T', 'M', 'M', 'T']}\n",
    "\n",
    "\n",
    "df3 = pd.DataFrame(data3)\n",
    "#A)\n",
    "#Agrupamento por tipo de industria\n",
    "agrupamento3_1 = df3.groupby('T')['S']\n",
    "print(\"\\n\\n######## POR TIPO DE INDUSTRIA ########\")\n",
    "print(\"\\nMédia da renda:\")\n",
    "print(agrupamento3_1.mean())\n",
    "print(\"\\nMediana da renda:\")\n",
    "print(agrupamento3_1.median())\n",
    "print(\"\\nDesvio padrão da renda:\")\n",
    "print(agrupamento3_1.std())\n",
    "print(\"\\nVariância da renda:\")\n",
    "print(agrupamento3_1.var())"
   ]
  },
  {
   "cell_type": "code",
   "execution_count": 5,
   "id": "7485aa77",
   "metadata": {},
   "outputs": [
    {
     "data": {
      "image/png": "[encoded data removed]",
      "text/plain": [
       "<Figure size 640x480 with 1 Axes>"
      ]
     },
     "metadata": {},
     "output_type": "display_data"
    }
   ],
   "source": [
    "################# Questao 4 #################\n",
    "\n",
    "data4 = {'Nível': [2.35, 2.55, 2.75, 2.95, 3.15, 3.35], 'Frequência': [1, 3, 2, 4, 5, 6]}\n",
    "df4 = pd.DataFrame(data4)\n",
    "\n",
    "intervalos = [2.35, 2.55, 2.75, 2.95, 3.15, 3.35, 3.55]\n",
    "\n",
    "# Plotando o histograma\n",
    "plt.hist(df4['Nível'], bins=intervalos, weights=df4['Frequência'], edgecolor='black')\n",
    "\n",
    "# Configurando o eixo x\n",
    "plt.xticks(intervalos)\n",
    "\n",
    "# Configurando o título e os eixos do gráfico\n",
    "plt.title('Histograma de Frequências')\n",
    "plt.xlabel('Nível')\n",
    "plt.ylabel('Frequência')\n",
    "\n",
    "# Exibindo o gráfico\n",
    "plt.show()"
   ]
  },
  {
   "cell_type": "code",
   "execution_count": 6,
   "id": "79af2f32",
   "metadata": {
    "scrolled": false
   },
   "outputs": [
    {
     "data": {
      "text/plain": [
       "'\\n a maioria dos alunos tem renda entre 3 e 4 mil reais, com alguns valores acima disso considerados como outliers. \\n Além disso, o gráfico mostra que a distribuição é assimétrica, com a mediana mais próxima do limite inferior da caixa. \\n Isso indica que há mais alunos com renda menor do que a mediana do que acima dela.\\n'"
      ]
     },
     "execution_count": 6,
     "metadata": {},
     "output_type": "execute_result"
    },
    {
     "data": {
      "image/png": "[encoded data removed]",
      "text/plain": [
       "<Figure size 640x480 with 1 Axes>"
      ]
     },
     "metadata": {},
     "output_type": "display_data"
    }
   ],
   "source": [
    "################# Questao 7 #################\n",
    "\n",
    "renda = [2.90, 2.90, 2.95, 2.95, 3.10, 3.10, 3.15, 3.20, 3.20, 3.25, 3.30, 3.40, \n",
    "         3.45, 3.45, 3.50, 3.65, 3.65, 3.80, 3.90, 3.90, 4.00, 5.00, 5.20, 5.50, 6.40]\n",
    "\n",
    "df7 = pd.DataFrame(renda, columns=['Renda'])\n",
    "df7.boxplot()\n",
    "\n",
    "'''\n",
    " a maioria dos alunos tem renda entre 3 e 4 mil reais, com alguns valores acima disso considerados como outliers. \n",
    " Além disso, o gráfico mostra que a distribuição é assimétrica, com a mediana mais próxima do limite inferior da caixa. \n",
    " Isso indica que há mais alunos com renda menor do que a mediana do que acima dela.\n",
    "'''"
   ]
  },
  {
   "cell_type": "code",
   "execution_count": 7,
   "id": "5b9287be",
   "metadata": {
    "scrolled": false
   },
   "outputs": [
    {
     "name": "stdout",
     "output_type": "stream",
     "text": [
      "### DIREITO ###\n",
      "Média:\n",
      "9.0\n",
      "Mediana:\n",
      "9.0\n",
      "Desvio padrão:\n",
      "0.0\n",
      "Variância:\n",
      "0.0\n",
      "\n",
      "\n",
      "### Política ###\n",
      "Média:\n",
      "7.3\n",
      "Mediana:\n",
      "7.0\n",
      "Desvio padrão:\n",
      "1.3919410907075054\n",
      "Variância:\n",
      "1.9375\n",
      "\n",
      "\n",
      "### Estatística ###\n",
      "Média:\n",
      "8.2\n",
      "Mediana:\n",
      "8.0\n",
      "Desvio padrão:\n",
      "0.9128709291752769\n",
      "Variância:\n",
      "0.8333333333333334\n"
     ]
    }
   ],
   "source": [
    "################# Questao 8 #################\n",
    "\n",
    "data8 = {'Seção': ['Pessoal', 'Pessoal', 'Pessoal', 'Pessoal', 'Pessoal', 'Pessoal', 'Pessoal', \n",
    "                  'Técnica', 'Técnica', 'Técnica', 'Técnica', 'Técnica', 'Técnica', 'Técnica', \n",
    "                  'Vendas', 'Vendas', 'Vendas', 'Vendas', 'Vendas', 'Vendas', 'Vendas', 'Vendas', \n",
    "                  'Vendas', 'Vendas', 'Vendas'], \n",
    "        'Direito': [9, 9, 9, 9, 9, 9, 9, 9, 9, 9, 9, 9, 9, 9, 9, 9, 9, 9, 9, 9, 9, 9, 9, 9, 9], \n",
    "        'Política': [9.0, 6.5, 9.0, 6.0, 6.5, 6.5, 9.0, 6.0, 9.0, 9.0, 7.0, 5.5, 6.0, 8.0, 7.0, \n",
    "                     9.0, 10.0, 5.5, 7.0, 6.0, 6.5, 6.0, 9.0, 6.5, 7.0],\n",
    "        'Estatística': [9, 9, 8, 8, 9, 10, 8, 8, 9, 8, 10, 7, 7, 9, 8, 7, 9, 8, 7, 8, 7, 7, 8, 9, 8]}\n",
    "\n",
    "df8 = pd.DataFrame(data8)\n",
    "direito = df8['Direito']\n",
    "politica = df8['Política']\n",
    "estatistica = df8['Estatística']\n",
    "\n",
    "print(\"### DIREITO ###\")\n",
    "print(\"Média:\")\n",
    "print(direito.mean())\n",
    "print(\"Mediana:\")\n",
    "print(direito.median())\n",
    "print(\"Desvio padrão:\")\n",
    "print(direito.std())\n",
    "print(\"Variância:\")\n",
    "print(direito.var())\n",
    "\n",
    "print(\"\\n\\n### Política ###\")\n",
    "print(\"Média:\")\n",
    "print(politica.mean())\n",
    "print(\"Mediana:\")\n",
    "print(politica.median())\n",
    "print(\"Desvio padrão:\")\n",
    "print(politica.std())\n",
    "print(\"Variância:\")\n",
    "print(politica.var())\n",
    "\n",
    "print(\"\\n\\n### Estatística ###\")\n",
    "print(\"Média:\")\n",
    "print(estatistica.mean())\n",
    "print(\"Mediana:\")\n",
    "print(estatistica.median())\n",
    "print(\"Desvio padrão:\")\n",
    "print(estatistica.std())\n",
    "print(\"Variância:\")\n",
    "print(estatistica.var())"
   ]
  },
  {
   "cell_type": "code",
   "execution_count": 8,
   "id": "ac0a006a",
   "metadata": {},
   "outputs": [
    {
     "data": {
      "text/plain": [
       "<Axes: xlabel='log10(V)=y', ylabel='log10(P)=x'>"
      ]
     },
     "execution_count": 8,
     "metadata": {},
     "output_type": "execute_result"
    },
    {
     "data": {
      "image/png": "[encoded data removed]",
      "text/plain": [
       "<Figure size 640x480 with 1 Axes>"
      ]
     },
     "metadata": {},
     "output_type": "display_data"
    }
   ],
   "source": [
    "################# Questao 9 #################\n",
    "\n",
    "df9 = pd.DataFrame({\n",
    "    'Estado': ['Amazonas', 'Pará', 'Maranhão', 'Piauí', 'Ceará', 'Rio Grande do Norte',\n",
    "               'Paraíba', 'Pernambuco', 'Alagoas', 'Sergipe', 'Bahia', 'Minas Gerais',\n",
    "               'Espírito Santo', 'Rio de Janeiro', 'São Paulo', 'Paraná', 'Santa Catarina',\n",
    "               'Rio Grande do Sul', 'Mato Grosso do Sul', 'Mato Grosso', 'Goiás', 'Distrito Federal'],\n",
    "    'V': [333, 2655, 71, 882, 8874, 5989, 1469, 9134, 924, 951, 2234, 17089, 2653,\n",
    "          39503, 172229, 4364, 34335, 64851, 59, 32, 1196, 99],\n",
    "    'P': [527, 2035, 271, 1290, 13776, 9816, 2499, 12720, 1031, 961, 4154, 30002, 4402,\n",
    "          49256, 195756, 7619, 28949, 91813, 222, 83, 2415, 239],\n",
    "    'log10(V)=y': [2.52, 3.42, 1.85, 2.95, 3.95, 3.78, 3.17, 3.96, 2.97, 2.98, 3.35, 4.23, 3.42,\n",
    "              4.60, 5.24, 3.64, 4.54, 4.81, 1.77, 1.51, 3.08, 2.00],\n",
    "    'log10(P)=x': [2.72, 3.31, 2.43, 3.11, 4.14, 3.99, 3.40, 4.10, 3.01, 2.98, 3.62, 4.48, 3.64,\n",
    "              4.69, 5.29, 3.88, 4.46, 4.96, 2.35, 1.92, 3.38, 2.38]\n",
    "})\n",
    "\n",
    "df9.plot.scatter(x='log10(V)=y', y='log10(P)=x')\n"
   ]
  },
  {
   "cell_type": "code",
   "execution_count": 9,
   "id": "cb71c744",
   "metadata": {},
   "outputs": [
    {
     "data": {
      "text/plain": [
       "<Axes: xlabel='X', ylabel='Y'>"
      ]
     },
     "execution_count": 9,
     "metadata": {},
     "output_type": "execute_result"
    },
    {
     "data": {
      "image/png": "[encoded data removed]",
      "text/plain": [
       "<Figure size 640x480 with 1 Axes>"
      ]
     },
     "metadata": {},
     "output_type": "display_data"
    }
   ],
   "source": [
    "################# Questao 10 #################\n",
    "\n",
    "data10 = {'X': [3.41, 3.52, 3.57, 3.61, 3.43, 3.59, 3.62, 3.56, 3.35, 3.47, 3.53, 3.33,\n",
    "               3.54, 3.22, 3.49, 3.25, 3.79, 3.64, 3.67, 3.72], \n",
    "        'Y': [8.20, 7.10, 7.30, 8.60, 6.80, 7.60, 8.50, 6.90, 5.40, 6.20, 7.90, 5.80,\n",
    "              9.10, 4.50, 6.30, 5.20, 9.50, 8.90, 7.40, 8.70]}\n",
    "\n",
    "df10 = pd.DataFrame(data10)\n",
    "df10.plot.scatter(x='X', y='Y')"
   ]
  }
 ],
 "metadata": {
  "kernelspec": {
   "display_name": "Python 3 (ipykernel)",
   "language": "python",
   "name": "python3"
  },
  "language_info": {
   "codemirror_mode": {
    "name": "ipython",
    "version": 3
   },
   "file_extension": ".py",
   "mimetype": "text/x-python",
   "name": "python",
   "nbconvert_exporter": "python",
   "pygments_lexer": "ipython3",
   "version": "3.11.3"
  }
 },
 "nbformat": 4,
 "nbformat_minor": 5
}
