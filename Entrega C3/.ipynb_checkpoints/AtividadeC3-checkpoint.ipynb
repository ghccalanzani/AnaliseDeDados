{
 "cells": [
  {
   "cell_type": "code",
   "execution_count": null,
   "id": "847a0727",
   "metadata": {},
   "outputs": [],
   "source": [
    "import pandas as pd\n",
    "import numpy as np\n",
    "import matplotlib.pyplot as plt\n",
    "\n",
    "from sklearn import preprocessing\n",
    "from sklearn.preprocessing import LabelEncoder\n",
    "from sklearn.linear_model import LinearRegression\n",
    "from sklearn.model_selection import train_test_split\n",
    "from sklearn.naive_bayes import GaussianNB\n",
    "from sklearn.metrics import precision_score, recall_score, roc_curve, auc, classification_report\n",
    "\n",
    "#OBS: Necessário possuir scikit-learn instalado! Para instalar: pip install -U scikit-learn"
   ]
  },
  {
   "cell_type": "code",
   "execution_count": null,
   "id": "594115ca",
   "metadata": {},
   "outputs": [],
   "source": [
    "#Selecionar arquivo CSV usando seleção de janela do Windows (Janela pode aparecer por baixo da janela do navegador!)\n",
    "import tkinter as tk\n",
    "from tkinter import filedialog\n",
    "root = tk.Tk()\n",
    "root.withdraw()\n",
    "caminhoArquivoDados = filedialog.askopenfilename(filetypes=[(\"CSV Files\", \"*.csv\")])\n",
    "\n",
    "#Carregar dataset para dataframe\n",
    "df_original = pd.read_csv(caminhoArquivoDados)"
   ]
  },
  {
   "cell_type": "code",
   "execution_count": null,
   "id": "4fda54de",
   "metadata": {},
   "outputs": [],
   "source": []
  }
 ],
 "metadata": {
  "kernelspec": {
   "display_name": "Python 3 (ipykernel)",
   "language": "python",
   "name": "python3"
  },
  "language_info": {
   "codemirror_mode": {
    "name": "ipython",
    "version": 3
   },
   "file_extension": ".py",
   "mimetype": "text/x-python",
   "name": "python",
   "nbconvert_exporter": "python",
   "pygments_lexer": "ipython3",
   "version": "3.11.3"
  }
 },
 "nbformat": 4,
 "nbformat_minor": 5
}
